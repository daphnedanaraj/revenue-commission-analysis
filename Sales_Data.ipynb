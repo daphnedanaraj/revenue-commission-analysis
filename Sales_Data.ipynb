{
  "nbformat": 4,
  "nbformat_minor": 0,
  "metadata": {
    "colab": {
      "provenance": []
    },
    "kernelspec": {
      "name": "python3",
      "display_name": "Python 3"
    },
    "language_info": {
      "name": "python"
    }
  },
  "cells": [
    {
      "cell_type": "markdown",
      "source": [
        "# Install Necessary Libraries"
      ],
      "metadata": {
        "id": "_GQtSmEjgAKm"
      }
    },
    {
      "cell_type": "code",
      "execution_count": 1,
      "metadata": {
        "colab": {
          "base_uri": "https://localhost:8080/"
        },
        "id": "qlUkWPeCf-KC",
        "outputId": "7735ea2e-62d2-41e7-b8ec-a382f35f5744"
      },
      "outputs": [
        {
          "output_type": "stream",
          "name": "stdout",
          "text": [
            "Requirement already satisfied: pandas in /usr/local/lib/python3.11/dist-packages (2.2.2)\n",
            "Requirement already satisfied: numpy in /usr/local/lib/python3.11/dist-packages (2.0.2)\n",
            "Collecting faker\n",
            "  Downloading faker-37.4.2-py3-none-any.whl.metadata (15 kB)\n",
            "Requirement already satisfied: python-dateutil>=2.8.2 in /usr/local/lib/python3.11/dist-packages (from pandas) (2.9.0.post0)\n",
            "Requirement already satisfied: pytz>=2020.1 in /usr/local/lib/python3.11/dist-packages (from pandas) (2025.2)\n",
            "Requirement already satisfied: tzdata>=2022.7 in /usr/local/lib/python3.11/dist-packages (from pandas) (2025.2)\n",
            "Requirement already satisfied: six>=1.5 in /usr/local/lib/python3.11/dist-packages (from python-dateutil>=2.8.2->pandas) (1.17.0)\n",
            "Downloading faker-37.4.2-py3-none-any.whl (1.9 MB)\n",
            "\u001b[2K   \u001b[90m━━━━━━━━━━━━━━━━━━━━━━━━━━━━━━━━━━━━━━━━\u001b[0m \u001b[32m1.9/1.9 MB\u001b[0m \u001b[31m6.0 MB/s\u001b[0m eta \u001b[36m0:00:00\u001b[0m\n",
            "\u001b[?25hInstalling collected packages: faker\n",
            "Successfully installed faker-37.4.2\n"
          ]
        }
      ],
      "source": [
        "pip install pandas numpy faker"
      ]
    },
    {
      "cell_type": "markdown",
      "source": [
        "#Data Structure\n",
        "\n",
        "Sales Rep: The name of the salesperson.\n",
        "\n",
        "Region: The geographical region of the sales rep.\n",
        "\n",
        "Course: The type of course they’re selling (e.g., \"Data Science\", \"Marketing\", etc.).\n",
        "\n",
        "Sale Date: The date when the sale occurred.\n",
        "\n",
        "Revenue: The revenue generated from the sale.\n",
        "\n",
        "Commission: A percentage-based commission earned by the sales rep (let’s assume 10% for simplicity).\n",
        "\n",
        "Student Engagement: A metric representing how engaged students were in the course (e.g., from 1 to 100).\n",
        "\n",
        "Performance Score: A metric for each sales rep's performance, based on total sales and engagement."
      ],
      "metadata": {
        "id": "R1_FMHCFgOWV"
      }
    },
    {
      "cell_type": "code",
      "source": [
        "import pandas as pd\n",
        "import numpy as np\n",
        "from faker import Faker\n",
        "import random\n",
        "from datetime import datetime, timedelta\n",
        "\n",
        "# Initialize Faker for fake data generation\n",
        "fake = Faker()\n",
        "\n",
        "# Define the number of rows for the mock data\n",
        "num_rows = 1000\n",
        "\n",
        "# Possible regions, courses, and sales reps\n",
        "regions = ['Australia', 'Southeast Asia', 'North America', 'Europe']\n",
        "courses = ['Data Science', 'Marketing', 'Machine Learning', 'Cyber Security', 'Business Analytics']\n",
        "sales_reps = [fake.name() for _ in range(30)]  # 30 random sales reps\n",
        "\n",
        "# Function to generate random sales data\n",
        "def generate_sales_data():\n",
        "    sales_data = []\n",
        "    for _ in range(num_rows):\n",
        "        sales_rep = random.choice(sales_reps)\n",
        "        region = random.choice(regions)\n",
        "        course = random.choice(courses)\n",
        "        sale_date = fake.date_this_decade()\n",
        "        revenue = round(random.uniform(500, 2000), 2)  # Sale between $500 and $2000\n",
        "        commission = revenue * 0.10  # 10% commission\n",
        "        engagement = random.randint(1, 100)  # Engagement score from 1 to 100\n",
        "        performance_score = round((revenue * engagement) / 100, 2)  # A simple performance metric\n",
        "\n",
        "        sales_data.append([sales_rep, region, course, sale_date, revenue, commission, engagement, performance_score])\n",
        "\n",
        "    return sales_data\n",
        "\n",
        "# Generate sales data\n",
        "sales_data = generate_sales_data()\n",
        "\n",
        "# Convert the data to a DataFrame\n",
        "columns = ['Sales Rep', 'Region', 'Course', 'Sale Date', 'Revenue', 'Commission', 'Engagement', 'Performance Score']\n",
        "df = pd.DataFrame(sales_data, columns=columns)\n",
        "\n",
        "# Convert 'Sale Date' to datetime\n",
        "df['Sale Date'] = pd.to_datetime(df['Sale Date'])\n",
        "\n",
        "# Show the first few rows of the generated data\n",
        "print(df.head())\n",
        "\n",
        "# Save the data to a CSV file\n",
        "df.to_csv('mock_sales_data.csv', index=False)\n"
      ],
      "metadata": {
        "colab": {
          "base_uri": "https://localhost:8080/"
        },
        "id": "ALfssGacgTjB",
        "outputId": "0e525ea7-2766-4aca-fd21-73d9a37a64cc"
      },
      "execution_count": 2,
      "outputs": [
        {
          "output_type": "stream",
          "name": "stdout",
          "text": [
            "           Sales Rep          Region            Course  Sale Date  Revenue  \\\n",
            "0    Victoria Bowman  Southeast Asia         Marketing 2021-12-08  1622.50   \n",
            "1   Hannah Patterson  Southeast Asia  Machine Learning 2020-03-23  1389.00   \n",
            "2          Joe Perez          Europe         Marketing 2021-09-15  1487.84   \n",
            "3       Amanda Owens       Australia         Marketing 2020-07-04  1157.39   \n",
            "4  Christopher Bowen  Southeast Asia    Cyber Security 2020-03-04   635.89   \n",
            "\n",
            "   Commission  Engagement  Performance Score  \n",
            "0     162.250          76            1233.10  \n",
            "1     138.900          68             944.52  \n",
            "2     148.784          52             773.68  \n",
            "3     115.739          31             358.79  \n",
            "4      63.589          93             591.38  \n"
          ]
        }
      ]
    }
  ]
}